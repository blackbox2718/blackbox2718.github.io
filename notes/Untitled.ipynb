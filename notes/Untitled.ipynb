{
 "cells": [
  {
   "cell_type": "markdown",
   "metadata": {},
   "source": [
    "I type up my math notes during lecture using $\\LaTeX$ (live-Tex) with the help of **latexmk** for real-time compiling and **Vim** as a text editor. I am hugely inspired by and have learnt lots of things from Gilles Castel; he is, without a doubt, one of the leading figures of this practice. For tips and tricks on how to push your note taking skills to a whole next level, please refer to his amazing works at [castel.dev](https://castel.dev).\n",
    "\n",
    "On this page, you can find most of the course notes that I have taken so far at UCLA in my undergrad with the addition two last math classes at PCC that marks the beginning of this whole thing. As these were typed during live lecture, you may find some mistakes/typos scattered throughout the notes, please let me know through my [email](mailto:ducvu2718@ucla.edu) if you spot any of them. \n",
    "\n",
    "Remember that this is still my first year at UCLA, so I will update this list more frequently as I take more courses here. In fact, I do actively maintain a [Github repo](https://github.com/tducvu/LectureNotes) where I update the notes of some of the math classes that I have during the time on a weekly basis, so keep an eye out for them if you're interested."
   ]
  }
 ],
 "metadata": {
  "kernelspec": {
   "display_name": "Python 3",
   "language": "python",
   "name": "python3"
  },
  "language_info": {
   "codemirror_mode": {
    "name": "ipython",
    "version": 3
   },
   "file_extension": ".py",
   "mimetype": "text/x-python",
   "name": "python",
   "nbconvert_exporter": "python",
   "pygments_lexer": "ipython3",
   "version": "3.8.5"
  }
 },
 "nbformat": 4,
 "nbformat_minor": 4
}
