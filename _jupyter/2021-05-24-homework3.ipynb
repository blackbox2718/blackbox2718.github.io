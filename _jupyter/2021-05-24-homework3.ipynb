{
 "cells": [
  {
   "cell_type": "markdown",
   "metadata": {
    "id": "OZhSr2WQijZK"
   },
   "source": [
    "Are you confident with your ability to spot fake news? Do you know that seven in ten Americans overestimate their ability in identifying false headlines? Well, one should even wonder whether what I just claimed is verifiable and truthful or not. Hence, instead of spending hours researching and verifying from one source to another, why we dont't leave this task to our trusworthy computer. With that being said, in this blog post, let us explore the art of assessing and detecting **fake** news through machine learning and more specifically with ``Tensorflow``."
   ]
  },
  {
   "cell_type": "markdown",
   "metadata": {
    "id": "9sZ3B_9RpHal"
   },
   "source": [
    "### §1. Dataset\n",
    "#### A. Source\n",
    "We will use data from the following article\n",
    "> Ahmed H, Traore I, Saad S. (2017) “Detection of Online Fake News Using N-Gram Analysis and Machine Learning Techniques. In: Traore I., Woungang I., Awad A. (eds) Intelligent, Secure, and Dependable Systems in Distributed and Cloud Environments. ISDDC 2017. Lecture Notes in Computer Science, vol 10618. Springer, Cham (pp. 127-138).\n",
    "\n",
    "which is accessed through [Kaggle](https://www.kaggle.com/clmentbisaillon/fake-and-real-news-dataset). Professor Chodrow already did some cleaning and performed a train-test split for us, so we can rest assured and get into our main task of the day. Before that, let's access and take a look at the data."
   ]
  },
  {
   "cell_type": "code",
   "execution_count": 1,
   "metadata": {
    "colab": {
     "base_uri": "https://localhost:8080/",
     "height": 419
    },
    "id": "KibvEoJgJG4w",
    "outputId": "e9a2a964-55d6-4fcb-cd5c-21d51d9cf89b"
   },
   "outputs": [
    {
     "data": {
      "text/html": [
       "<div>\n",
       "<style scoped>\n",
       "    .dataframe tbody tr th:only-of-type {\n",
       "        vertical-align: middle;\n",
       "    }\n",
       "\n",
       "    .dataframe tbody tr th {\n",
       "        vertical-align: top;\n",
       "    }\n",
       "\n",
       "    .dataframe thead th {\n",
       "        text-align: right;\n",
       "    }\n",
       "</style>\n",
       "<table border=\"1\" class=\"dataframe\">\n",
       "  <thead>\n",
       "    <tr style=\"text-align: right;\">\n",
       "      <th></th>\n",
       "      <th>Unnamed: 0</th>\n",
       "      <th>title</th>\n",
       "      <th>text</th>\n",
       "      <th>fake</th>\n",
       "    </tr>\n",
       "  </thead>\n",
       "  <tbody>\n",
       "    <tr>\n",
       "      <th>0</th>\n",
       "      <td>17366</td>\n",
       "      <td>Merkel: Strong result for Austria's FPO 'big c...</td>\n",
       "      <td>German Chancellor Angela Merkel said on Monday...</td>\n",
       "      <td>0</td>\n",
       "    </tr>\n",
       "    <tr>\n",
       "      <th>1</th>\n",
       "      <td>5634</td>\n",
       "      <td>Trump says Pence will lead voter fraud panel</td>\n",
       "      <td>WEST PALM BEACH, Fla.President Donald Trump sa...</td>\n",
       "      <td>0</td>\n",
       "    </tr>\n",
       "    <tr>\n",
       "      <th>2</th>\n",
       "      <td>17487</td>\n",
       "      <td>JUST IN: SUSPECTED LEAKER and “Close Confidant...</td>\n",
       "      <td>On December 5, 2017, Circa s Sara Carter warne...</td>\n",
       "      <td>1</td>\n",
       "    </tr>\n",
       "    <tr>\n",
       "      <th>3</th>\n",
       "      <td>12217</td>\n",
       "      <td>Thyssenkrupp has offered help to Argentina ove...</td>\n",
       "      <td>Germany s Thyssenkrupp, has offered assistance...</td>\n",
       "      <td>0</td>\n",
       "    </tr>\n",
       "    <tr>\n",
       "      <th>4</th>\n",
       "      <td>5535</td>\n",
       "      <td>Trump say appeals court decision on travel ban...</td>\n",
       "      <td>President Donald Trump on Thursday called the ...</td>\n",
       "      <td>0</td>\n",
       "    </tr>\n",
       "    <tr>\n",
       "      <th>...</th>\n",
       "      <td>...</td>\n",
       "      <td>...</td>\n",
       "      <td>...</td>\n",
       "      <td>...</td>\n",
       "    </tr>\n",
       "    <tr>\n",
       "      <th>22444</th>\n",
       "      <td>10709</td>\n",
       "      <td>ALARMING: NSA Refuses to Release Clinton-Lynch...</td>\n",
       "      <td>If Clinton and Lynch just talked about grandki...</td>\n",
       "      <td>1</td>\n",
       "    </tr>\n",
       "    <tr>\n",
       "      <th>22445</th>\n",
       "      <td>8731</td>\n",
       "      <td>Can Pence's vow not to sling mud survive a Tru...</td>\n",
       "      <td>() - In 1990, during a close and bitter congre...</td>\n",
       "      <td>0</td>\n",
       "    </tr>\n",
       "    <tr>\n",
       "      <th>22446</th>\n",
       "      <td>4733</td>\n",
       "      <td>Watch Trump Campaign Try To Spin Their Way Ou...</td>\n",
       "      <td>A new ad by the Hillary Clinton SuperPac Prior...</td>\n",
       "      <td>1</td>\n",
       "    </tr>\n",
       "    <tr>\n",
       "      <th>22447</th>\n",
       "      <td>3993</td>\n",
       "      <td>Trump celebrates first 100 days as president, ...</td>\n",
       "      <td>HARRISBURG, Pa.U.S. President Donald Trump hit...</td>\n",
       "      <td>0</td>\n",
       "    </tr>\n",
       "    <tr>\n",
       "      <th>22448</th>\n",
       "      <td>12896</td>\n",
       "      <td>TRUMP SUPPORTERS REACT TO DEBATE: “Clinton New...</td>\n",
       "      <td>MELBOURNE, FL is a town with a population of 7...</td>\n",
       "      <td>1</td>\n",
       "    </tr>\n",
       "  </tbody>\n",
       "</table>\n",
       "<p>22449 rows × 4 columns</p>\n",
       "</div>"
      ],
      "text/plain": [
       "       Unnamed: 0  ... fake\n",
       "0           17366  ...    0\n",
       "1            5634  ...    0\n",
       "2           17487  ...    1\n",
       "3           12217  ...    0\n",
       "4            5535  ...    0\n",
       "...           ...  ...  ...\n",
       "22444       10709  ...    1\n",
       "22445        8731  ...    0\n",
       "22446        4733  ...    1\n",
       "22447        3993  ...    0\n",
       "22448       12896  ...    1\n",
       "\n",
       "[22449 rows x 4 columns]"
      ]
     },
     "execution_count": 1,
     "metadata": {
      "tags": []
     },
     "output_type": "execute_result"
    }
   ],
   "source": [
    "import pandas as pd\n",
    "\n",
    "train_url = \"https://github.com/PhilChodrow/PIC16b/blob/master/datasets/fake_news_train.csv?raw=true\"\n",
    "news = pd.read_csv(train_url)\n",
    "news"
   ]
  },
  {
   "cell_type": "markdown",
   "metadata": {
    "id": "K020tNBOtMnd"
   },
   "source": [
    "#### A. Construct Tensorflow Dataset\n",
    "As there are many unncessary filler words such as \"but\", \"or\", \"and\", etc, in these articles which do not make a significant contribution in identifying fake news, let's first define a function to remove them.\n",
    "\n",
    "**Note**: These words are also known as *stopwords*."
   ]
  },
  {
   "cell_type": "code",
   "execution_count": 2,
   "metadata": {
    "id": "BK8cE7U8J_o2"
   },
   "outputs": [],
   "source": [
    "from nltk.corpus import stopwords\n",
    "import tensorflow as tf\n",
    "stop = stopwords.words('english')\n",
    "\n",
    "def make_dataset(df):\n",
    "    \"\"\"\n",
    "    FUNCTION\n",
    "    --------\n",
    "    1. Remove stopwords from two columns \"text\" and \"title\" of a panda dataframe\n",
    "    2. Create a Tensorflow dataset with two input (text, tile) and one output (fake)\n",
    "    INPUT & OUTPUT\n",
    "    --------------\n",
    "    input -- df: a panda dataframe which contains the two columns as mentioned\n",
    "    output -- data: the newly created tensorflow dataset\n",
    "    \"\"\"\n",
    "    # use lambda function and list comprehension to remove stopwords\n",
    "    df['title'] = df['title'].apply(lambda x: ' '.join([word for word in x.split() if word not in (stop)]))\n",
    "    df['text'] = df['text'].apply(lambda x: ' '.join([word for word in x.split() if word not in (stop)]))\n",
    "\n",
    "    # construct the tensorflow data set\n",
    "    # the first dictionary indicates the predictor data components\n",
    "    # the second one specifies the target data components\n",
    "    data = tf.data.Dataset.from_tensor_slices(\n",
    "      ({\n",
    "          \"title\" : df[[\"title\"]],\n",
    "          \"text\"  : df[[\"text\"]]\n",
    "      },\n",
    "       {\n",
    "           \"fake\" : df[[\"fake\"]]\n",
    "        })\n",
    "      )\n",
    "\n",
    "    # batch the dataset so that the model trains on chunks of data\n",
    "    # => faster training time but may reduce accuracy\n",
    "    data.batch(100)\n",
    "    return data"
   ]
  },
  {
   "cell_type": "markdown",
   "metadata": {
    "id": "qpLCpRQDyBVC"
   },
   "source": [
    "Let's see if our function performs as we intend it to be."
   ]
  },
  {
   "cell_type": "code",
   "execution_count": 3,
   "metadata": {
    "colab": {
     "base_uri": "https://localhost:8080/"
    },
    "id": "qqRFaFTrwpQB",
    "outputId": "52e6a65e-333f-4e60-ff3c-69b06b21709a"
   },
   "outputs": [
    {
     "data": {
      "text/plain": [
       "<TensorSliceDataset shapes: ({title: (1,), text: (1,)}, {fake: (1,)}), types: ({title: tf.string, text: tf.string}, {fake: tf.int64})>"
      ]
     },
     "execution_count": 3,
     "metadata": {
      "tags": []
     },
     "output_type": "execute_result"
    }
   ],
   "source": [
    "data = make_dataset(news)\n",
    "data"
   ]
  },
  {
   "cell_type": "markdown",
   "metadata": {
    "id": "osawvzseyGMn"
   },
   "source": [
    "We seem to successfully construct a Tensorflow dataset, but the output may not look very friendly here. It's a good idea to take a glance at the contents of our newly created dataset."
   ]
  },
  {
   "cell_type": "code",
   "execution_count": 4,
   "metadata": {
    "colab": {
     "base_uri": "https://localhost:8080/"
    },
    "id": "8KK4o2QHywRq",
    "outputId": "9339127b-0894-40ab-dbc7-435bac151a17"
   },
   "outputs": [
    {
     "name": "stdout",
     "output_type": "stream",
     "text": [
      "{'title': <tf.Tensor: shape=(1,), dtype=string, numpy=\n",
      "array([b\"Merkel: Strong result Austria's FPO 'big challenge' parties\"],\n",
      "      dtype=object)>, 'text': <tf.Tensor: shape=(1,), dtype=string, numpy=\n",
      "array([b'German Chancellor Angela Merkel said Monday strong showing Austria anti-immigrant Freedom Party (FPO) Sunday election big challenge parties. Speaking news conference Berlin, Merkel added hoping close cooperation Austria conservative election winner Sebastian Kurz European level.'],\n",
      "      dtype=object)>} {'fake': <tf.Tensor: shape=(1,), dtype=int64, numpy=array([0])>}\n"
     ]
    }
   ],
   "source": [
    "for title, text in data.take(1):\n",
    "    print(title, text)"
   ]
  },
  {
   "cell_type": "markdown",
   "metadata": {
    "id": "U7Jhz-LH7G92"
   },
   "source": [
    "That looks like a great piece of news there, and yes it's valid information.\n",
    "#### B. Validation Data\n",
    "Now, we will split our dataset into two parts; 20% of the data is for **validation**, and the rest of it would be used for **training**. The main reason we perform this splitting is because we want to make sure that our model is not get too \"comfortable\" with predicting data that it only gets trained with too well, i.e., *overfitting*. Thus, in order to reduce such risks, it's crucial to increase the model's diversity as well as its flexibility with handling new information. Besides, we also will batch our data into chunks of size 80, which would significantly decrease the training time later."
   ]
  },
  {
   "cell_type": "code",
   "execution_count": 5,
   "metadata": {
    "colab": {
     "base_uri": "https://localhost:8080/"
    },
    "id": "fKS3WADC-LKI",
    "outputId": "80a81453-44e7-4e3f-e2c8-a0ab2d97750e"
   },
   "outputs": [
    {
     "data": {
      "text/plain": [
       "(225, 57)"
      ]
     },
     "execution_count": 5,
     "metadata": {
      "tags": []
     },
     "output_type": "execute_result"
    }
   ],
   "source": [
    "# shuffle data\n",
    "data = data.shuffle(buffer_size = len(data))\n",
    "\n",
    "# split the data\n",
    "train_size = int(0.8*len(data))\n",
    "train = data.take(train_size).batch(80)\n",
    "val   = data.skip(train_size).batch(80)\n",
    "len(train), len(val)"
   ]
  },
  {
   "cell_type": "markdown",
   "metadata": {
    "id": "F80JXXYa--9a"
   },
   "source": [
    "### §2. Create Models\n",
    "In this section, we will create three models with an attempt to answer the following question\n",
    "> When detecting fake news, is it most effective to focus only on the title of the article, the full text of the article, or both?\n",
    "\n",
    "Thus, each model we build will correspond to each scenario in the question.\n",
    "#### A. Data Preprocessing\n",
    "There are essentially two steps that we need to follow to prepare the data for the learning process.\n",
    "1. Standardization: clean undesirable texts through removing punctuations and replacing capitals with lowercases.\n",
    "2. Vectorization: encoding texts as vector of numbers as computers only know how to deal with numbers.\n",
    "\n",
    "Before getting into this, there is an important aspect that we need to investigate. For our model to learn effectively, we need to consider how many words and the length of each sequence we should feed to our model for training. In fact, I get this brilliant idea from [David](https://davidyu8.github.io/HW3/) in his blog post in which he talks about estimating these values so that we can have a better look at the bigger picture of the gain/lost from a certain value.\n"
   ]
  },
  {
   "cell_type": "code",
   "execution_count": 6,
   "metadata": {
    "colab": {
     "base_uri": "https://localhost:8080/"
    },
    "id": "vj8diaGlHGWs",
    "outputId": "1f6fc9bf-a252-4554-d2ce-1da5e7e420c9"
   },
   "outputs": [
    {
     "data": {
      "text/plain": [
       "(251617, 31023)"
      ]
     },
     "execution_count": 6,
     "metadata": {
      "tags": []
     },
     "output_type": "execute_result"
    }
   ],
   "source": [
    "# the code below is from David's blog post mentioned above\n",
    "\n",
    "# find the total number of words in text\n",
    "len_text = set()\n",
    "news['text'].str.lower().str.split().apply(len_text.update)\n",
    "# find the total number of words in title\n",
    "len_title = set()\n",
    "news['title'].str.lower().str.split().apply(len_title.update)\n",
    "\n",
    "len(len_text), len(len_title)"
   ]
  },
  {
   "cell_type": "markdown",
   "metadata": {
    "id": "Ss5LsQVNIQ0P"
   },
   "source": [
    "We can certainly see that there are a huge number of words in the `text` columns, and it's significantly less for the `title` column which is as expected. How about the number of words in the longest/shortest articles?"
   ]
  },
  {
   "cell_type": "code",
   "execution_count": 7,
   "metadata": {
    "colab": {
     "base_uri": "https://localhost:8080/"
    },
    "id": "tS_xt6jUIhJB",
    "outputId": "089c5518-88e6-49ac-b33b-7f15186f369d"
   },
   "outputs": [
    {
     "name": "stdout",
     "output_type": "stream",
     "text": [
      "Longest: (261, 40034)\n",
      "Shortest: (8, 0)\n"
     ]
    }
   ],
   "source": [
    "max_text_len = news['text'].str.lower().str.len().max()\n",
    "max_title_len = news['title'].str.lower().str.len().max()\n",
    "min_text_len = news['text'].str.lower().str.len().min()\n",
    "min_title_len = news['title'].str.lower().str.len().min()\n",
    "print(\"Longest:\", (max_title_len, max_text_len))\n",
    "print(\"Shortest:\", (min_title_len, min_text_len))"
   ]
  },
  {
   "cell_type": "markdown",
   "metadata": {
    "id": "5mEkzm7nJlx3"
   },
   "source": [
    "From these numbers, it's reasonable to choose a vocabulary size of 5000, which is about 1/8 of the number of words in the text of the longest article, but remember that these words are all distinct, and there will be surely some patterns emerged with certain number of words. Our job here is best predict such a number.\n",
    "\n",
    "Now, it's time for us to jump in the actual preprocessing time. First, we will standardize the text with a function."
   ]
  },
  {
   "cell_type": "code",
   "execution_count": 8,
   "metadata": {
    "id": "-IG4H1-ZK5Jy"
   },
   "outputs": [],
   "source": [
    "import re\n",
    "import string\n",
    "\n",
    "def standardization(input_data):\n",
    "    \"\"\"\n",
    "    Take in a Tensorflow dataset to remove punctuation\n",
    "    and replace capital letters with the corresponding lowercase\n",
    "    \"\"\"\n",
    "    lowercase = tf.strings.lower(input_data) \n",
    "    no_punctuation = tf.strings.regex_replace(lowercase, '[%s]' % re.escape(string.punctuation),'')\n",
    "    return no_punctuation "
   ]
  },
  {
   "cell_type": "markdown",
   "metadata": {
    "id": "1YrGmaMdL6If"
   },
   "source": [
    "For the next step, we will vectorize our texts, which is in essence, encode them as vectors of numbers in which each of these numbers represents its corresponding text's frequency rank."
   ]
  },
  {
   "cell_type": "code",
   "execution_count": 9,
   "metadata": {
    "id": "4NESWoFaMKm7"
   },
   "outputs": [],
   "source": [
    "from tensorflow.keras.layers.experimental.preprocessing import TextVectorization\n",
    "\n",
    "def vectorize_layer(train, feature, vocab_size, sequence_length):\n",
    "    \"\"\"\n",
    "    Function:\n",
    "    Create vectorize layer to encode and adapt it for the learning process.\n",
    "\n",
    "    Input:\n",
    "    train: training data\n",
    "    feature: name of column\n",
    "    vocab_size: the number of vocabulary for training\n",
    "    sequence_length: length of each sequence for training\n",
    "\n",
    "    Output: the result vectorize layer\n",
    "    \"\"\"\n",
    "    # create vectorize layers to encode and prepare for learning\n",
    "    vectorize_layer = TextVectorization(\n",
    "        standardize=standardization,\n",
    "        max_tokens=vocab_size,\n",
    "        output_mode='int',\n",
    "        output_sequence_length=sequence_length)\n",
    "        \n",
    "    # adapt the layer \n",
    "    vectorize_layer.adapt(train.map(lambda x, y: x[feature]))\n",
    "    return vectorize_layer"
   ]
  },
  {
   "cell_type": "markdown",
   "metadata": {
    "id": "z-9SI3ozRMOr"
   },
   "source": [
    "We can now create two different layers for `title` and `text`."
   ]
  },
  {
   "cell_type": "code",
   "execution_count": 10,
   "metadata": {
    "id": "NhtiLA6iRJUe"
   },
   "outputs": [],
   "source": [
    "vectorize_title = vectorize_layer(train, 'title', 5000, 300)\n",
    "vectorize_text = vectorize_layer(train, 'text', 5000, 1000)"
   ]
  },
  {
   "cell_type": "markdown",
   "metadata": {
    "id": "xrCR-Q9NTY6c"
   },
   "source": [
    "Next, we need to specify the details of the two inputs for our model. As both `title` and `text` only contain one piece of information, their shapes are thus (1,)."
   ]
  },
  {
   "cell_type": "code",
   "execution_count": 11,
   "metadata": {
    "id": "hdV8V9oEUAjd"
   },
   "outputs": [],
   "source": [
    "from tensorflow import keras\n",
    "\n",
    "title_input = keras.Input(\n",
    "    shape = (1,),\n",
    "    name = \"title\",\n",
    "    dtype = \"string\"\n",
    ")\n",
    "text_input = keras.Input(\n",
    "    shape = (1,),\n",
    "    name = \"text\",\n",
    "    dtype = \"string\"\n",
    ")"
   ]
  },
  {
   "cell_type": "markdown",
   "metadata": {
    "id": "GMtNqsTbUtLv"
   },
   "source": [
    "Now, it's time for us to construct the first model.\n",
    "#### B. First Model -- Title\n",
    "For the first trial, we will test how our model performs with title. Basically, it would utilize the vectorize layer, ``vectorize_title``, to enconde the inputs and learn the pattern through a number of layers. An input would first be fed into a layer where it gets transformed through a series of complicated mathematical functions/computations, and the output would then be used for the next layer. This process gets repeated until we run out of layers. \n",
    "\n",
    "Let's define the pipelines for the title feature\n"
   ]
  },
  {
   "cell_type": "code",
   "execution_count": 12,
   "metadata": {
    "id": "waHY1y5BYMXU"
   },
   "outputs": [],
   "source": [
    "from tensorflow.keras import layers\n",
    "\n",
    "# shared embedding layer\n",
    "shared_embedding = layers.Embedding(5000, 20, name='embedding')\n",
    "# the actual layers for title feature\n",
    "title_features = vectorize_title(title_input)\n",
    "title_features = shared_embedding(title_features)\n",
    "title_features = layers.GlobalAveragePooling1D()(title_features)\n",
    "title_features = layers.Dropout(0.2)(title_features)\n",
    "title_features = layers.Dense(32, activation='relu')(title_features)\n",
    "title_features = layers.Dropout(0.2)(title_features)\n",
    "title_features = layers.Dense(32, activation='relu')(title_features)\n",
    "title_output = layers.Dense(2, name='fake')(title_features)"
   ]
  },
  {
   "cell_type": "markdown",
   "metadata": {
    "id": "bR-jK5u1asCM"
   },
   "source": [
    "Notice here that we define a ``share_embedding`` as this variable (embedding) can be used later on for the ``text`` model. Also, we can observe that there are quite a few layers added to the model. Especially with the ``Dropout`` layer, it's particularly used to prevent overfitting as we emphasized earlier. Other layers are filled with complex mathematical functions to which are critical for the model to learn and process the input. Finally, we can build the model."
   ]
  },
  {
   "cell_type": "code",
   "execution_count": 13,
   "metadata": {
    "id": "QxvHRf8md1Dd"
   },
   "outputs": [],
   "source": [
    "title_model = keras.Model(\n",
    "    inputs = title_input,\n",
    "    outputs = title_output\n",
    ")"
   ]
  },
  {
   "cell_type": "markdown",
   "metadata": {
    "id": "jgNjoCoDeEmH"
   },
   "source": [
    "Let's take a look at the model's summary."
   ]
  },
  {
   "cell_type": "code",
   "execution_count": 14,
   "metadata": {
    "colab": {
     "base_uri": "https://localhost:8080/"
    },
    "id": "sDNJuVugeEKu",
    "outputId": "fdb126ef-e0f0-4873-c8e7-cc92e2a473b7"
   },
   "outputs": [
    {
     "name": "stdout",
     "output_type": "stream",
     "text": [
      "Model: \"model\"\n",
      "_________________________________________________________________\n",
      "Layer (type)                 Output Shape              Param #   \n",
      "=================================================================\n",
      "title (InputLayer)           [(None, 1)]               0         \n",
      "_________________________________________________________________\n",
      "text_vectorization (TextVect (None, 300)               0         \n",
      "_________________________________________________________________\n",
      "embedding (Embedding)        (None, 300, 20)           100000    \n",
      "_________________________________________________________________\n",
      "global_average_pooling1d (Gl (None, 20)                0         \n",
      "_________________________________________________________________\n",
      "dropout (Dropout)            (None, 20)                0         \n",
      "_________________________________________________________________\n",
      "dense (Dense)                (None, 32)                672       \n",
      "_________________________________________________________________\n",
      "dropout_1 (Dropout)          (None, 32)                0         \n",
      "_________________________________________________________________\n",
      "dense_1 (Dense)              (None, 32)                1056      \n",
      "_________________________________________________________________\n",
      "fake (Dense)                 (None, 2)                 66        \n",
      "=================================================================\n",
      "Total params: 101,794\n",
      "Trainable params: 101,794\n",
      "Non-trainable params: 0\n",
      "_________________________________________________________________\n"
     ]
    }
   ],
   "source": [
    "title_model.summary()"
   ]
  },
  {
   "cell_type": "markdown",
   "metadata": {
    "id": "OJdJffONeqYu"
   },
   "source": [
    "We have over 100,000 parameters -- which is a pretty rational number for this type of task. As we're here, let's observe how the layers defined above are organized and structured."
   ]
  },
  {
   "cell_type": "code",
   "execution_count": 15,
   "metadata": {
    "colab": {
     "base_uri": "https://localhost:8080/",
     "height": 856
    },
    "id": "GCIp3bV3fPzC",
    "outputId": "3abbab96-a86b-4940-8e35-c9b108379e66"
   },
   "outputs": [
    {
     "data": {
      "image/png": "[encoded data removed]",
      "text/plain": [
       "<IPython.core.display.Image object>"
      ]
     },
     "execution_count": 15,
     "metadata": {
      "tags": []
     },
     "output_type": "execute_result"
    }
   ],
   "source": [
    "keras.utils.plot_model(title_model)"
   ]
  },
  {
   "cell_type": "markdown",
   "metadata": {
    "id": "Sh5CuHzxfY5W"
   },
   "source": [
    "And we're ready to compile the model now."
   ]
  },
  {
   "cell_type": "code",
   "execution_count": 16,
   "metadata": {
    "id": "X5boHDuxfjyB"
   },
   "outputs": [],
   "source": [
    "from tensorflow.keras import losses\n",
    "\n",
    "title_model.compile(optimizer = 'adam',\n",
    "                    loss = losses.SparseCategoricalCrossentropy(from_logits = True),\n",
    "                    metrics = ['accuracy']\n",
    ")"
   ]
  },
  {
   "cell_type": "markdown",
   "metadata": {
    "id": "1vjv8Z4nf6df"
   },
   "source": [
    "What comes after compiling the model? Without a doubt, it's training. For this one, let's set the number of *epochs* to be 10."
   ]
  },
  {
   "cell_type": "code",
   "execution_count": 17,
   "metadata": {
    "colab": {
     "base_uri": "https://localhost:8080/"
    },
    "id": "yVe2WzKsgTFZ",
    "outputId": "524abfc5-b86e-4a9d-9769-c54807310b7b"
   },
   "outputs": [
    {
     "name": "stdout",
     "output_type": "stream",
     "text": [
      "Epoch 1/10\n"
     ]
    },
    {
     "name": "stderr",
     "output_type": "stream",
     "text": [
      "/usr/local/lib/python3.7/dist-packages/tensorflow/python/keras/engine/functional.py:591: UserWarning: Input dict contained keys ['text'] which did not match any model input. They will be ignored by the model.\n",
      "  [n for n in tensors.keys() if n not in ref_input_names])\n",
      "/usr/local/lib/python3.7/dist-packages/tensorflow/python/keras/backend.py:4930: UserWarning: \"`sparse_categorical_crossentropy` received `from_logits=True`, but the `output` argument was produced by a sigmoid or softmax activation and thus does not represent logits. Was this intended?\"\n",
      "  '\"`sparse_categorical_crossentropy` received `from_logits=True`, but '\n"
     ]
    },
    {
     "name": "stdout",
     "output_type": "stream",
     "text": [
      "225/225 [==============================] - 3s 9ms/step - loss: 0.6781 - accuracy: 0.5822 - val_loss: 0.5670 - val_accuracy: 0.9528\n",
      "Epoch 2/10\n",
      "225/225 [==============================] - 2s 8ms/step - loss: 0.2190 - accuracy: 0.9429 - val_loss: 0.0765 - val_accuracy: 0.9766\n",
      "Epoch 3/10\n",
      "225/225 [==============================] - 2s 8ms/step - loss: 0.0704 - accuracy: 0.9767 - val_loss: 0.0570 - val_accuracy: 0.9817\n",
      "Epoch 4/10\n",
      "225/225 [==============================] - 2s 8ms/step - loss: 0.0509 - accuracy: 0.9825 - val_loss: 0.0622 - val_accuracy: 0.9780\n",
      "Epoch 5/10\n",
      "225/225 [==============================] - 2s 8ms/step - loss: 0.0427 - accuracy: 0.9862 - val_loss: 0.0263 - val_accuracy: 0.9913\n",
      "Epoch 6/10\n",
      "225/225 [==============================] - 2s 8ms/step - loss: 0.0385 - accuracy: 0.9870 - val_loss: 0.0293 - val_accuracy: 0.9911\n",
      "Epoch 7/10\n",
      "225/225 [==============================] - 2s 8ms/step - loss: 0.0309 - accuracy: 0.9901 - val_loss: 0.0166 - val_accuracy: 0.9951\n",
      "Epoch 8/10\n",
      "225/225 [==============================] - 2s 8ms/step - loss: 0.0281 - accuracy: 0.9907 - val_loss: 0.0232 - val_accuracy: 0.9922\n",
      "Epoch 9/10\n",
      "225/225 [==============================] - 2s 8ms/step - loss: 0.0260 - accuracy: 0.9910 - val_loss: 0.0132 - val_accuracy: 0.9971\n",
      "Epoch 10/10\n",
      "225/225 [==============================] - 2s 8ms/step - loss: 0.0208 - accuracy: 0.9935 - val_loss: 0.0155 - val_accuracy: 0.9958\n"
     ]
    }
   ],
   "source": [
    "title_history = title_model.fit(train,\n",
    "                                validation_data = val,\n",
    "                                epochs = 10)"
   ]
  },
  {
   "cell_type": "markdown",
   "metadata": {
    "id": "T0eU08rKhgss"
   },
   "source": [
    "Hurray! Our model achieved such an impressive result, over 99% validation accuracy. Well, let's actually visualize how it performs over time."
   ]
  },
  {
   "cell_type": "code",
   "execution_count": 18,
   "metadata": {
    "colab": {
     "base_uri": "https://localhost:8080/",
     "height": 282
    },
    "id": "sE6gksV2iTMc",
    "outputId": "da0115cb-00fb-471a-a8f2-41c69c633663"
   },
   "outputs": [
    {
     "data": {
      "image/png": "[encoded data removed]",
      "text/plain": [
       "<Figure size 432x288 with 1 Axes>"
      ]
     },
     "metadata": {
      "tags": []
     },
     "output_type": "display_data"
    }
   ],
   "source": [
    "import matplotlib.pyplot as plt\n",
    "plt.style.use('ggplot')\n",
    "\n",
    "def perf_plot(feature):\n",
    "    \"\"\"\n",
    "    Plot the performance of a model where the accuracy is plotted\n",
    "    against epochs for training and validation datasets\n",
    "    \"\"\"\n",
    "    plt.plot(feature.history['accuracy'], label='training')\n",
    "    plt.plot(feature.history['val_accuracy'], label='validation')\n",
    "    plt.gca().set(xlabel='epoch', ylabel='accuracy')\n",
    "    plt.legend()\n",
    "\n",
    "perf_plot(title_history)"
   ]
  },
  {
   "cell_type": "markdown",
   "metadata": {
    "id": "YOjeF3z-jTOz"
   },
   "source": [
    "As seen from the figure, the performance jumps noticeably from the first epoch, and it steadily approaches 1 after that. Observe that both the training and validation curves are quite similar to each other after the second epochs, so overfitting is not an isse that we have to worry about at all.\n",
    "\n",
    "#### C. Second Model -- Text\n",
    "Recall that we already defined an embedding layer from the first model, so we can just reuse it. We proceed similarly to the first model."
   ]
  },
  {
   "cell_type": "code",
   "execution_count": 19,
   "metadata": {
    "id": "g5p61Le4kY6w"
   },
   "outputs": [],
   "source": [
    "text_features = vectorize_text(text_input)\n",
    "text_features = shared_embedding(text_features)\n",
    "text_features = layers.GlobalAveragePooling1D()(text_features)\n",
    "text_features = layers.Dropout(0.2)(text_features)\n",
    "text_features = layers.Dense(32, activation='relu')(text_features)\n",
    "text_features = layers.Dropout(0.2)(text_features)\n",
    "text_features = layers.Dense(32, activation='relu')(text_features)\n",
    "text_output = layers.Dense(2, name='fake')(text_features)"
   ]
  },
  {
   "cell_type": "markdown",
   "metadata": {
    "id": "rvHplm-rlVeQ"
   },
   "source": [
    "As before, we can build the model and inspect the model summary."
   ]
  },
  {
   "cell_type": "code",
   "execution_count": 20,
   "metadata": {
    "colab": {
     "base_uri": "https://localhost:8080/"
    },
    "id": "TuGgZ0zzlcKs",
    "outputId": "dfa08825-9ace-4908-f1ca-747aba52ddb0"
   },
   "outputs": [
    {
     "name": "stdout",
     "output_type": "stream",
     "text": [
      "Model: \"model_1\"\n",
      "_________________________________________________________________\n",
      "Layer (type)                 Output Shape              Param #   \n",
      "=================================================================\n",
      "text (InputLayer)            [(None, 1)]               0         \n",
      "_________________________________________________________________\n",
      "text_vectorization_1 (TextVe (None, 1000)              0         \n",
      "_________________________________________________________________\n",
      "embedding (Embedding)        multiple                  100000    \n",
      "_________________________________________________________________\n",
      "global_average_pooling1d_1 ( (None, 20)                0         \n",
      "_________________________________________________________________\n",
      "dropout_2 (Dropout)          (None, 20)                0         \n",
      "_________________________________________________________________\n",
      "dense_2 (Dense)              (None, 32)                672       \n",
      "_________________________________________________________________\n",
      "dropout_3 (Dropout)          (None, 32)                0         \n",
      "_________________________________________________________________\n",
      "dense_3 (Dense)              (None, 32)                1056      \n",
      "_________________________________________________________________\n",
      "fake (Dense)                 (None, 2)                 66        \n",
      "=================================================================\n",
      "Total params: 101,794\n",
      "Trainable params: 101,794\n",
      "Non-trainable params: 0\n",
      "_________________________________________________________________\n"
     ]
    }
   ],
   "source": [
    "text_model = keras.Model(\n",
    "    inputs = text_input,\n",
    "    outputs = text_output\n",
    ")\n",
    "text_model.summary()"
   ]
  },
  {
   "cell_type": "markdown",
   "metadata": {
    "id": "lPzxAiFrmBvu"
   },
   "source": [
    "Likewise, let's compile and train the model."
   ]
  },
  {
   "cell_type": "code",
   "execution_count": 21,
   "metadata": {
    "id": "tGNMguiMmJse"
   },
   "outputs": [],
   "source": [
    "text_model.compile(optimizer = 'adam',\n",
    "                   loss = losses.SparseCategoricalCrossentropy(from_logits = True),\n",
    "                   metrics = ['accuracy']\n",
    ")"
   ]
  },
  {
   "cell_type": "markdown",
   "metadata": {
    "id": "nD7hvdxFsOTT"
   },
   "source": [
    "Time for some fitting!"
   ]
  },
  {
   "cell_type": "code",
   "execution_count": 22,
   "metadata": {
    "colab": {
     "base_uri": "https://localhost:8080/"
    },
    "id": "GyyI4mL7mfBx",
    "outputId": "05d9a350-5d81-4dba-8d57-8ff652d0b799"
   },
   "outputs": [
    {
     "name": "stdout",
     "output_type": "stream",
     "text": [
      "Epoch 1/10\n"
     ]
    },
    {
     "name": "stderr",
     "output_type": "stream",
     "text": [
      "/usr/local/lib/python3.7/dist-packages/tensorflow/python/keras/engine/functional.py:591: UserWarning: Input dict contained keys ['title'] which did not match any model input. They will be ignored by the model.\n",
      "  [n for n in tensors.keys() if n not in ref_input_names])\n",
      "/usr/local/lib/python3.7/dist-packages/tensorflow/python/keras/backend.py:4930: UserWarning: \"`sparse_categorical_crossentropy` received `from_logits=True`, but the `output` argument was produced by a sigmoid or softmax activation and thus does not represent logits. Was this intended?\"\n",
      "  '\"`sparse_categorical_crossentropy` received `from_logits=True`, but '\n"
     ]
    },
    {
     "name": "stdout",
     "output_type": "stream",
     "text": [
      "225/225 [==============================] - 6s 22ms/step - loss: 0.5594 - accuracy: 0.7160 - val_loss: 0.2190 - val_accuracy: 0.9517\n",
      "Epoch 2/10\n",
      "225/225 [==============================] - 5s 22ms/step - loss: 0.1700 - accuracy: 0.9419 - val_loss: 0.1055 - val_accuracy: 0.9708\n",
      "Epoch 3/10\n",
      "225/225 [==============================] - 5s 22ms/step - loss: 0.1059 - accuracy: 0.9683 - val_loss: 0.0712 - val_accuracy: 0.9815\n",
      "Epoch 4/10\n",
      "225/225 [==============================] - 5s 22ms/step - loss: 0.0783 - accuracy: 0.9760 - val_loss: 0.0567 - val_accuracy: 0.9831\n",
      "Epoch 5/10\n",
      "225/225 [==============================] - 5s 22ms/step - loss: 0.0575 - accuracy: 0.9827 - val_loss: 0.0363 - val_accuracy: 0.9895\n",
      "Epoch 6/10\n",
      "225/225 [==============================] - 5s 22ms/step - loss: 0.0444 - accuracy: 0.9874 - val_loss: 0.0268 - val_accuracy: 0.9942\n",
      "Epoch 7/10\n",
      "225/225 [==============================] - 5s 22ms/step - loss: 0.0375 - accuracy: 0.9898 - val_loss: 0.0209 - val_accuracy: 0.9951\n",
      "Epoch 8/10\n",
      "225/225 [==============================] - 5s 22ms/step - loss: 0.0286 - accuracy: 0.9918 - val_loss: 0.0351 - val_accuracy: 0.9780\n",
      "Epoch 9/10\n",
      "225/225 [==============================] - 5s 22ms/step - loss: 0.0232 - accuracy: 0.9933 - val_loss: 0.0130 - val_accuracy: 0.9969\n",
      "Epoch 10/10\n",
      "225/225 [==============================] - 5s 22ms/step - loss: 0.0212 - accuracy: 0.9945 - val_loss: 0.0089 - val_accuracy: 0.9982\n"
     ]
    }
   ],
   "source": [
    "text_history = text_model.fit(train,\n",
    "                              validation_data = val,\n",
    "                              epochs = 10)"
   ]
  },
  {
   "cell_type": "markdown",
   "metadata": {
    "id": "nnwsaKu_nj0f"
   },
   "source": [
    "Remarkably, we also obtained over 99% for training and validation accuracy for this model. Let's see how the model's performance through each epoch."
   ]
  },
  {
   "cell_type": "code",
   "execution_count": 23,
   "metadata": {
    "colab": {
     "base_uri": "https://localhost:8080/",
     "height": 282
    },
    "id": "s7KUpL7NnPU-",
    "outputId": "45df7366-fd6b-4d22-8dd1-4f4da9beedfd"
   },
   "outputs": [
    {
     "data": {
      "image/png": "[encoded data removed]",
      "text/plain": [
       "<Figure size 432x288 with 1 Axes>"
      ]
     },
     "metadata": {
      "tags": []
     },
     "output_type": "display_data"
    }
   ],
   "source": [
    "perf_plot(text_history)"
   ]
  },
  {
   "cell_type": "markdown",
   "metadata": {
    "id": "tAEQ-pBLpMpP"
   },
   "source": [
    "There's apparently a very small gap between the two curves, but as the number of epochs increases, we can see that they both converge to the same value. Thus, overfitting is negligible here.\n",
    "\n",
    "#### D. Third Model -- Title & Text\n",
    "Lastly, to train a model on both `title` and `text`, we need to concatenate the two features that we defined earlier."
   ]
  },
  {
   "cell_type": "code",
   "execution_count": 24,
   "metadata": {
    "id": "Y79ljKN4p-kK"
   },
   "outputs": [],
   "source": [
    "main = layers.concatenate([title_features, text_features], axis=1)\n",
    "main = layers.Dense(32, activation='relu')(main)\n",
    "main_output = layers.Dense(2, name='fake')(main)"
   ]
  },
  {
   "cell_type": "markdown",
   "metadata": {
    "id": "Ar-Wvyvcqhb6"
   },
   "source": [
    "We define the model as usual."
   ]
  },
  {
   "cell_type": "code",
   "execution_count": 25,
   "metadata": {
    "colab": {
     "base_uri": "https://localhost:8080/"
    },
    "id": "Kh8mA6rHqpN7",
    "outputId": "dbc7c4bb-3844-4ca4-8876-c83a0f1911f2"
   },
   "outputs": [
    {
     "name": "stdout",
     "output_type": "stream",
     "text": [
      "Model: \"model_2\"\n",
      "__________________________________________________________________________________________________\n",
      "Layer (type)                    Output Shape         Param #     Connected to                     \n",
      "==================================================================================================\n",
      "title (InputLayer)              [(None, 1)]          0                                            \n",
      "__________________________________________________________________________________________________\n",
      "text (InputLayer)               [(None, 1)]          0                                            \n",
      "__________________________________________________________________________________________________\n",
      "text_vectorization (TextVectori (None, 300)          0           title[0][0]                      \n",
      "__________________________________________________________________________________________________\n",
      "text_vectorization_1 (TextVecto (None, 1000)         0           text[0][0]                       \n",
      "__________________________________________________________________________________________________\n",
      "embedding (Embedding)           multiple             100000      text_vectorization[0][0]         \n",
      "                                                                 text_vectorization_1[0][0]       \n",
      "__________________________________________________________________________________________________\n",
      "global_average_pooling1d (Globa (None, 20)           0           embedding[0][0]                  \n",
      "__________________________________________________________________________________________________\n",
      "global_average_pooling1d_1 (Glo (None, 20)           0           embedding[1][0]                  \n",
      "__________________________________________________________________________________________________\n",
      "dropout (Dropout)               (None, 20)           0           global_average_pooling1d[0][0]   \n",
      "__________________________________________________________________________________________________\n",
      "dropout_2 (Dropout)             (None, 20)           0           global_average_pooling1d_1[0][0] \n",
      "__________________________________________________________________________________________________\n",
      "dense (Dense)                   (None, 32)           672         dropout[0][0]                    \n",
      "__________________________________________________________________________________________________\n",
      "dense_2 (Dense)                 (None, 32)           672         dropout_2[0][0]                  \n",
      "__________________________________________________________________________________________________\n",
      "dropout_1 (Dropout)             (None, 32)           0           dense[0][0]                      \n",
      "__________________________________________________________________________________________________\n",
      "dropout_3 (Dropout)             (None, 32)           0           dense_2[0][0]                    \n",
      "__________________________________________________________________________________________________\n",
      "dense_1 (Dense)                 (None, 32)           1056        dropout_1[0][0]                  \n",
      "__________________________________________________________________________________________________\n",
      "dense_3 (Dense)                 (None, 32)           1056        dropout_3[0][0]                  \n",
      "__________________________________________________________________________________________________\n",
      "concatenate (Concatenate)       (None, 64)           0           dense_1[0][0]                    \n",
      "                                                                 dense_3[0][0]                    \n",
      "__________________________________________________________________________________________________\n",
      "dense_4 (Dense)                 (None, 32)           2080        concatenate[0][0]                \n",
      "__________________________________________________________________________________________________\n",
      "fake (Dense)                    (None, 2)            66          dense_4[0][0]                    \n",
      "==================================================================================================\n",
      "Total params: 105,602\n",
      "Trainable params: 105,602\n",
      "Non-trainable params: 0\n",
      "__________________________________________________________________________________________________\n"
     ]
    }
   ],
   "source": [
    "model = keras.Model(\n",
    "    inputs = [title_input, text_input],\n",
    "    outputs = main_output\n",
    ")\n",
    "model.summary()"
   ]
  },
  {
   "cell_type": "markdown",
   "metadata": {
    "id": "lBfc7-fIrn1i"
   },
   "source": [
    "The graph is quite interesting to observe as there are two inputs/paths in the model now. Let's take a look."
   ]
  },
  {
   "cell_type": "code",
   "execution_count": 26,
   "metadata": {
    "colab": {
     "base_uri": "https://localhost:8080/",
     "height": 1000
    },
    "id": "QmrFYvRzr28F",
    "outputId": "65510147-a922-4484-95d4-b179807a031c"
   },
   "outputs": [
    {
     "data": {
      "image/png": "[encoded data removed]",
      "text/plain": [
       "<IPython.core.display.Image object>"
      ]
     },
     "execution_count": 26,
     "metadata": {
      "tags": []
     },
     "output_type": "execute_result"
    }
   ],
   "source": [
    "keras.utils.plot_model(model)"
   ]
  },
  {
   "cell_type": "markdown",
   "metadata": {
    "id": "QXotqbDvsCnI"
   },
   "source": [
    "It feels like a routine now, but let's compile and fit the model again."
   ]
  },
  {
   "cell_type": "code",
   "execution_count": 27,
   "metadata": {
    "id": "bSZbXrn4sX_u"
   },
   "outputs": [],
   "source": [
    "model.compile(optimizer = 'adam',\n",
    "              loss = losses.SparseCategoricalCrossentropy(from_logits = True),\n",
    "              metrics = ['accuracy']\n",
    ")"
   ]
  },
  {
   "cell_type": "code",
   "execution_count": 28,
   "metadata": {
    "colab": {
     "base_uri": "https://localhost:8080/"
    },
    "id": "anZELy2BsgDi",
    "outputId": "e0371683-130a-4bc0-ffdc-fce22e404e52"
   },
   "outputs": [
    {
     "name": "stdout",
     "output_type": "stream",
     "text": [
      "Epoch 1/10\n"
     ]
    },
    {
     "name": "stderr",
     "output_type": "stream",
     "text": [
      "/usr/local/lib/python3.7/dist-packages/tensorflow/python/keras/backend.py:4930: UserWarning: \"`sparse_categorical_crossentropy` received `from_logits=True`, but the `output` argument was produced by a sigmoid or softmax activation and thus does not represent logits. Was this intended?\"\n",
      "  '\"`sparse_categorical_crossentropy` received `from_logits=True`, but '\n"
     ]
    },
    {
     "name": "stdout",
     "output_type": "stream",
     "text": [
      "225/225 [==============================] - 8s 29ms/step - loss: 0.0554 - accuracy: 0.9852 - val_loss: 0.0032 - val_accuracy: 0.9996\n",
      "Epoch 2/10\n",
      "225/225 [==============================] - 7s 30ms/step - loss: 0.0052 - accuracy: 0.9983 - val_loss: 0.0016 - val_accuracy: 0.9996\n",
      "Epoch 3/10\n",
      "225/225 [==============================] - 6s 27ms/step - loss: 0.0032 - accuracy: 0.9991 - val_loss: 8.7991e-04 - val_accuracy: 0.9996\n",
      "Epoch 4/10\n",
      "225/225 [==============================] - 6s 27ms/step - loss: 0.0020 - accuracy: 0.9994 - val_loss: 1.9044e-04 - val_accuracy: 1.0000\n",
      "Epoch 5/10\n",
      "225/225 [==============================] - 6s 28ms/step - loss: 0.0013 - accuracy: 0.9996 - val_loss: 2.1947e-04 - val_accuracy: 1.0000\n",
      "Epoch 6/10\n",
      "225/225 [==============================] - 6s 28ms/step - loss: 0.0013 - accuracy: 0.9996 - val_loss: 6.7279e-04 - val_accuracy: 0.9998\n",
      "Epoch 7/10\n",
      "225/225 [==============================] - 6s 27ms/step - loss: 0.0016 - accuracy: 0.9993 - val_loss: 8.8581e-05 - val_accuracy: 1.0000\n",
      "Epoch 8/10\n",
      "225/225 [==============================] - 6s 28ms/step - loss: 2.9390e-04 - accuracy: 1.0000 - val_loss: 1.9924e-04 - val_accuracy: 1.0000\n",
      "Epoch 9/10\n",
      "225/225 [==============================] - 6s 27ms/step - loss: 7.2190e-04 - accuracy: 0.9997 - val_loss: 1.2639e-04 - val_accuracy: 1.0000\n",
      "Epoch 10/10\n",
      "225/225 [==============================] - 6s 27ms/step - loss: 0.0022 - accuracy: 0.9992 - val_loss: 3.1933e-04 - val_accuracy: 1.0000\n"
     ]
    }
   ],
   "source": [
    "history = model.fit(train,\n",
    "                    validation_data = val,\n",
    "                    epochs = 10)"
   ]
  },
  {
   "cell_type": "markdown",
   "metadata": {
    "id": "tbhIKMQ7tBso"
   },
   "source": [
    "And let's visualize the performance."
   ]
  },
  {
   "cell_type": "code",
   "execution_count": 29,
   "metadata": {
    "colab": {
     "base_uri": "https://localhost:8080/",
     "height": 282
    },
    "id": "J0WvHeSCtQGQ",
    "outputId": "86ce311e-47c8-469b-8a9e-bae458bcdaf2"
   },
   "outputs": [
    {
     "data": {
      "image/png": "[encoded data removed]",
      "text/plain": [
       "<Figure size 432x288 with 1 Axes>"
      ]
     },
     "metadata": {
      "tags": []
     },
     "output_type": "display_data"
    }
   ],
   "source": [
    "perf_plot(history)"
   ]
  },
  {
   "cell_type": "markdown",
   "metadata": {
    "id": "3r2QOGnNtaxn"
   },
   "source": [
    "Indeed, we got 100% accuracy for the last model, which is extremely impressive.\n",
    "\n",
    "### §3. Model Evaluation & Visualization\n",
    "All three of the model's performance is well over 99%, but only the last one achieves the perfect score. Thus, we can potentially pick it as our best model. Also, this turns out to be quite intuitive as it has the most information compared with the other two to train with, and thus it's just natural that it's better at predicting/detecting fake news (note that this is not always the case). For the last test, we will use a new set of data to see how it performs."
   ]
  },
  {
   "cell_type": "code",
   "execution_count": 30,
   "metadata": {
    "colab": {
     "base_uri": "https://localhost:8080/"
    },
    "id": "hV-tzB3av-xE",
    "outputId": "42732df5-58f4-4d88-87e5-edcaa95c58b1"
   },
   "outputs": [
    {
     "name": "stdout",
     "output_type": "stream",
     "text": [
      "    1/22449 [..............................] - ETA: 1:53:06 - loss: 0.0000e+00 - accuracy: 1.0000"
     ]
    },
    {
     "name": "stderr",
     "output_type": "stream",
     "text": [
      "/usr/local/lib/python3.7/dist-packages/tensorflow/python/keras/backend.py:4930: UserWarning: \"`sparse_categorical_crossentropy` received `from_logits=True`, but the `output` argument was produced by a sigmoid or softmax activation and thus does not represent logits. Was this intended?\"\n",
      "  '\"`sparse_categorical_crossentropy` received `from_logits=True`, but '\n"
     ]
    },
    {
     "name": "stdout",
     "output_type": "stream",
     "text": [
      "22449/22449 [==============================] - 55s 2ms/step - loss: 0.0284 - accuracy: 0.9948\n"
     ]
    },
    {
     "data": {
      "text/plain": [
       "[0.028427032753825188, 0.9947881698608398]"
      ]
     },
     "execution_count": 30,
     "metadata": {
      "tags": []
     },
     "output_type": "execute_result"
    }
   ],
   "source": [
    "test_url = \"https://github.com/PhilChodrow/PIC16b/blob/master/datasets/fake_news_test.csv?raw=true\"\n",
    "test_df = pd.read_csv(test_url)\n",
    "test_data = make_dataset(test_df)\n",
    "model.evaluate(test_data)"
   ]
  },
  {
   "cell_type": "markdown",
   "metadata": {
    "id": "MADPhCx0wty3"
   },
   "source": [
    "Our model is indeed the ace that we're looking for. There's just no doubt about that.\n",
    "\n",
    "Last but certainly not least, we will join in the world of dataviz again and discover what kind of patterns our model learns through visualizing its embedding."
   ]
  },
  {
   "cell_type": "code",
   "execution_count": 31,
   "metadata": {
    "id": "rY6TBat2yqpO"
   },
   "outputs": [],
   "source": [
    "weights = model.get_layer('embedding').get_weights()[0]\n",
    "vocab = vectorize_text.get_vocabulary()"
   ]
  },
  {
   "cell_type": "markdown",
   "metadata": {
    "id": "4tJghVBoy8IP"
   },
   "source": [
    "We first get the weights from the share embedding layer and then retrieve the vocabulary that gets encoded when we first trained the model. Note that we chose ``vectorize_text`` here because it possesses way more vocabs then ``vectorize_title``, which is ultimately more informative and useful when plotting.\n",
    "\n",
    "What we want to do next is to perform **Principal Component Analysis (PCA)** to reduce the data into two dimensions for plotting purpose."
   ]
  },
  {
   "cell_type": "code",
   "execution_count": 32,
   "metadata": {
    "id": "3yLpqSzu0Tqy"
   },
   "outputs": [],
   "source": [
    "from sklearn.decomposition import PCA\n",
    "\n",
    "pca = PCA(n_components=2)\n",
    "weights = pca.fit_transform(weights)"
   ]
  },
  {
   "cell_type": "markdown",
   "metadata": {
    "id": "XbT2x9Xb0vZu"
   },
   "source": [
    "We can make an embedding dataframe that contains everything that we need now."
   ]
  },
  {
   "cell_type": "code",
   "execution_count": 33,
   "metadata": {
    "colab": {
     "base_uri": "https://localhost:8080/",
     "height": 419
    },
    "id": "6xhIQYj509Fe",
    "outputId": "c380d89e-32af-4237-f9b5-fcd1204a4143"
   },
   "outputs": [
    {
     "data": {
      "text/html": [
       "<div>\n",
       "<style scoped>\n",
       "    .dataframe tbody tr th:only-of-type {\n",
       "        vertical-align: middle;\n",
       "    }\n",
       "\n",
       "    .dataframe tbody tr th {\n",
       "        vertical-align: top;\n",
       "    }\n",
       "\n",
       "    .dataframe thead th {\n",
       "        text-align: right;\n",
       "    }\n",
       "</style>\n",
       "<table border=\"1\" class=\"dataframe\">\n",
       "  <thead>\n",
       "    <tr style=\"text-align: right;\">\n",
       "      <th></th>\n",
       "      <th>word</th>\n",
       "      <th>x0</th>\n",
       "      <th>x1</th>\n",
       "    </tr>\n",
       "  </thead>\n",
       "  <tbody>\n",
       "    <tr>\n",
       "      <th>0</th>\n",
       "      <td></td>\n",
       "      <td>0.028353</td>\n",
       "      <td>0.050869</td>\n",
       "    </tr>\n",
       "    <tr>\n",
       "      <th>1</th>\n",
       "      <td>[UNK]</td>\n",
       "      <td>-0.252220</td>\n",
       "      <td>0.103668</td>\n",
       "    </tr>\n",
       "    <tr>\n",
       "      <th>2</th>\n",
       "      <td>said</td>\n",
       "      <td>2.659175</td>\n",
       "      <td>-0.792404</td>\n",
       "    </tr>\n",
       "    <tr>\n",
       "      <th>3</th>\n",
       "      <td>trump</td>\n",
       "      <td>0.101470</td>\n",
       "      <td>2.852397</td>\n",
       "    </tr>\n",
       "    <tr>\n",
       "      <th>4</th>\n",
       "      <td>the</td>\n",
       "      <td>2.367876</td>\n",
       "      <td>2.985684</td>\n",
       "    </tr>\n",
       "    <tr>\n",
       "      <th>...</th>\n",
       "      <td>...</td>\n",
       "      <td>...</td>\n",
       "      <td>...</td>\n",
       "    </tr>\n",
       "    <tr>\n",
       "      <th>4995</th>\n",
       "      <td>argentina</td>\n",
       "      <td>0.795248</td>\n",
       "      <td>0.124421</td>\n",
       "    </tr>\n",
       "    <tr>\n",
       "      <th>4996</th>\n",
       "      <td>accuses</td>\n",
       "      <td>0.290624</td>\n",
       "      <td>0.349541</td>\n",
       "    </tr>\n",
       "    <tr>\n",
       "      <th>4997</th>\n",
       "      <td>1995</td>\n",
       "      <td>0.415719</td>\n",
       "      <td>-0.097762</td>\n",
       "    </tr>\n",
       "    <tr>\n",
       "      <th>4998</th>\n",
       "      <td>unarmed</td>\n",
       "      <td>0.621208</td>\n",
       "      <td>-0.017521</td>\n",
       "    </tr>\n",
       "    <tr>\n",
       "      <th>4999</th>\n",
       "      <td>thugs</td>\n",
       "      <td>-1.214973</td>\n",
       "      <td>0.548064</td>\n",
       "    </tr>\n",
       "  </tbody>\n",
       "</table>\n",
       "<p>5000 rows × 3 columns</p>\n",
       "</div>"
      ],
      "text/plain": [
       "           word        x0        x1\n",
       "0                0.028353  0.050869\n",
       "1         [UNK] -0.252220  0.103668\n",
       "2          said  2.659175 -0.792404\n",
       "3         trump  0.101470  2.852397\n",
       "4           the  2.367876  2.985684\n",
       "...         ...       ...       ...\n",
       "4995  argentina  0.795248  0.124421\n",
       "4996    accuses  0.290624  0.349541\n",
       "4997       1995  0.415719 -0.097762\n",
       "4998    unarmed  0.621208 -0.017521\n",
       "4999      thugs -1.214973  0.548064\n",
       "\n",
       "[5000 rows x 3 columns]"
      ]
     },
     "execution_count": 33,
     "metadata": {
      "tags": []
     },
     "output_type": "execute_result"
    }
   ],
   "source": [
    "embedding_df = pd.DataFrame({\n",
    "    'word' : vocab, \n",
    "    'x0'   : weights[:,0],\n",
    "    'x1'   : weights[:,1]\n",
    "})\n",
    "embedding_df"
   ]
  },
  {
   "cell_type": "markdown",
   "metadata": {
    "id": "QyHq61XH14Yn"
   },
   "source": [
    "We can finally plot the embedding now."
   ]
  },
  {
   "cell_type": "code",
   "execution_count": null,
   "metadata": {
    "colab": {
     "base_uri": "https://localhost:8080/",
     "height": 542
    },
    "id": "NjyQucnk1-b6",
    "outputId": "ac8f8fca-59f1-43bc-f5e3-73cf50262479"
   },
   "outputs": [],
   "source": [
    "import numpy as np\n",
    "import plotly.express as px\n",
    "from plotly.io import write_html\n",
    "import plotly.io as pio\n",
    "pio.templates.default = 'plotly_white'\n",
    "\n",
    "fig = px.scatter(embedding_df,\n",
    "                 x = 'x0',\n",
    "                 y = 'x1',\n",
    "                 size = list(np.ones(len(embedding_df))),\n",
    "                 size_max = 2,\n",
    "                 hover_name = 'word')\n",
    "write_html(fig, 'embedding_viz.html')\n",
    "fig.show()"
   ]
  },
  {
   "cell_type": "markdown",
   "metadata": {
    "id": "OBaIVlgR3Ieq"
   },
   "source": [
    "At first glance, this looks like a big chunk of data clumped together, but there's still something that we can certainly extract from. Overall, there appears to be a lot of keywords revolved around politics around the corner of every sides. Words such as \"obama\", \"trumps\", \"gop\", \"democrats\" seem to be indicative and significant factors how whether a piece of news is fake or not. On the other hand, if we focus on the middle of the figure, there are indeed all sorts of words there which doesn't seem to follow a certain topic/theme."
   ]
  }
 ],
 "metadata": {
  "colab": {
   "name": "2021-05-24-homework3.ipynb",
   "provenance": []
  },
  "kernelspec": {
   "display_name": "Python 3",
   "language": "python",
   "name": "python3"
  },
  "language_info": {
   "codemirror_mode": {
    "name": "ipython",
    "version": 3
   },
   "file_extension": ".py",
   "mimetype": "text/x-python",
   "name": "python",
   "nbconvert_exporter": "python",
   "pygments_lexer": "ipython3",
   "version": "3.8.5"
  }
 },
 "nbformat": 4,
 "nbformat_minor": 4
}
